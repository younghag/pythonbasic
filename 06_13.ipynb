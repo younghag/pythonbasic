{
 "cells": [
  {
   "cell_type": "code",
   "execution_count": 2,
   "metadata": {},
   "outputs": [
    {
     "name": "stdout",
     "output_type": "stream",
     "text": [
      "                           open        high         low       close  \\\n",
      "time                                                                  \n",
      "2013-12-27 00:00:00    737000.0    755000.0    737000.0    755000.0   \n",
      "2013-12-28 00:00:00    750000.0    750000.0    750000.0    750000.0   \n",
      "2013-12-29 00:00:00    750000.0    750000.0    728000.0    739000.0   \n",
      "2013-12-30 00:00:00    740000.0    772000.0    740000.0    768000.0   \n",
      "2013-12-31 00:00:00    768000.0    800000.0    763000.0    768000.0   \n",
      "...                         ...         ...         ...         ...   \n",
      "2021-04-29 00:00:00  63241000.0  65351000.0  62944000.0  63299000.0   \n",
      "2021-04-30 00:00:00  63299000.0  66600000.0  62770000.0  66423000.0   \n",
      "2021-05-01 00:00:00  66411000.0  69300000.0  66406000.0  68695000.0   \n",
      "2021-05-02 00:00:00  68697000.0  69680000.0  66880000.0  68403000.0   \n",
      "2021-05-03 16:00:00  68400000.0  70347000.0  67758000.0  70202000.0   \n",
      "\n",
      "                          volume  \n",
      "time                              \n",
      "2013-12-27 00:00:00     3.780000  \n",
      "2013-12-28 00:00:00    12.000000  \n",
      "2013-12-29 00:00:00    19.058000  \n",
      "2013-12-30 00:00:00     9.488973  \n",
      "2013-12-31 00:00:00    18.650350  \n",
      "...                          ...  \n",
      "2021-04-29 00:00:00  3549.677927  \n",
      "2021-04-30 00:00:00  3603.834412  \n",
      "2021-05-01 00:00:00  3020.139084  \n",
      "2021-05-02 00:00:00  2664.006989  \n",
      "2021-05-03 16:00:00  1891.016759  \n",
      "\n",
      "[2595 rows x 5 columns]\n",
      "71203000.0\n"
     ]
    }
   ],
   "source": [
    "import pybithumb\n",
    "\n",
    "df = pybithumb.get_ohlcv(\"BTC\")\n",
    "print(df)\n",
    "yesterday = df.iloc[-2]\n",
    "\n",
    "today_open = yesterday['close']\n",
    "yesterday_high = yesterday['high']\n",
    "yesterday_low = yesterday['low']\n",
    "target = today_open + (yesterday_high - yesterday_low)\n",
    "print(target)"
   ]
  },
  {
   "cell_type": "code",
   "execution_count": null,
   "metadata": {},
   "outputs": [],
   "source": []
  }
 ],
 "metadata": {
  "kernelspec": {
   "display_name": "Python 3",
   "language": "python",
   "name": "python3"
  },
  "language_info": {
   "codemirror_mode": {
    "name": "ipython",
    "version": 3
   },
   "file_extension": ".py",
   "mimetype": "text/x-python",
   "name": "python",
   "nbconvert_exporter": "python",
   "pygments_lexer": "ipython3",
   "version": "3.8.5"
  }
 },
 "nbformat": 4,
 "nbformat_minor": 4
}
