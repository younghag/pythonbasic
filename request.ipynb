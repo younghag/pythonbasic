{
 "cells": [
  {
   "cell_type": "code",
   "execution_count": 4,
   "metadata": {},
   "outputs": [
    {
     "name": "stdout",
     "output_type": "stream",
     "text": [
      "66,101,000 원\n",
      "2,958,000 원\n"
     ]
    }
   ],
   "source": [
    "import requests\n",
    "from bs4 import BeautifulSoup\n",
    "\n",
    "url = \"https://www.bithumb.com/\"\n",
    "html = requests.get(url).text\n",
    "\n",
    "soup = BeautifulSoup(html,\"html5lib\")\n",
    "\n",
    "tag = soup.select(\"#assetRealBTC_KRW\")[0]\n",
    "print(tag.text)\n",
    "tag = soup.select(\"#assetRealETH_KRW\")[0]\n",
    "print(tag.text)\n"
   ]
  },
  {
   "cell_type": "code",
   "execution_count": null,
   "metadata": {},
   "outputs": [],
   "source": []
  }
 ],
 "metadata": {
  "kernelspec": {
   "display_name": "Python 3",
   "language": "python",
   "name": "python3"
  },
  "language_info": {
   "codemirror_mode": {
    "name": "ipython",
    "version": 3
   },
   "file_extension": ".py",
   "mimetype": "text/x-python",
   "name": "python",
   "nbconvert_exporter": "python",
   "pygments_lexer": "ipython3",
   "version": "3.8.5"
  }
 },
 "nbformat": 4,
 "nbformat_minor": 4
}
