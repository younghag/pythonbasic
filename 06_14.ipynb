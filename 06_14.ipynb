{
 "cells": [
  {
   "cell_type": "code",
   "execution_count": 2,
   "metadata": {},
   "outputs": [
    {
     "name": "stdout",
     "output_type": "stream",
     "text": [
      "2021-05-03 16:58:11.093843 vs 2021-05-04 00:00:00\n",
      "2021-05-03 16:58:12.100992 vs 2021-05-04 00:00:00\n",
      "2021-05-03 16:58:13.112162 vs 2021-05-04 00:00:00\n",
      "2021-05-03 16:58:14.125581 vs 2021-05-04 00:00:00\n",
      "2021-05-03 16:58:15.137526 vs 2021-05-04 00:00:00\n",
      "2021-05-03 16:58:16.152084 vs 2021-05-04 00:00:00\n",
      "2021-05-03 16:58:17.160960 vs 2021-05-04 00:00:00\n",
      "2021-05-03 16:58:18.172608 vs 2021-05-04 00:00:00\n",
      "2021-05-03 16:58:19.189826 vs 2021-05-04 00:00:00\n",
      "2021-05-03 16:58:20.196465 vs 2021-05-04 00:00:00\n",
      "2021-05-03 16:58:21.206052 vs 2021-05-04 00:00:00\n",
      "2021-05-03 16:58:22.214222 vs 2021-05-04 00:00:00\n",
      "2021-05-03 16:58:23.230903 vs 2021-05-04 00:00:00\n",
      "2021-05-03 16:58:24.234221 vs 2021-05-04 00:00:00\n"
     ]
    },
    {
     "ename": "KeyboardInterrupt",
     "evalue": "",
     "output_type": "error",
     "traceback": [
      "\u001b[1;31m---------------------------------------------------------------------------\u001b[0m",
      "\u001b[1;31mKeyboardInterrupt\u001b[0m                         Traceback (most recent call last)",
      "\u001b[1;32m<ipython-input-2-eb2aebb66325>\u001b[0m in \u001b[0;36m<module>\u001b[1;34m\u001b[0m\n\u001b[0;32m     12\u001b[0m         \u001b[0mmid\u001b[0m \u001b[1;33m=\u001b[0m \u001b[0mdatetime\u001b[0m\u001b[1;33m.\u001b[0m\u001b[0mdatetime\u001b[0m\u001b[1;33m(\u001b[0m\u001b[0mnow\u001b[0m\u001b[1;33m.\u001b[0m\u001b[0myear\u001b[0m\u001b[1;33m,\u001b[0m \u001b[0mnow\u001b[0m\u001b[1;33m.\u001b[0m\u001b[0mmonth\u001b[0m\u001b[1;33m,\u001b[0m \u001b[0mnow\u001b[0m\u001b[1;33m.\u001b[0m\u001b[0mday\u001b[0m\u001b[1;33m)\u001b[0m \u001b[1;33m+\u001b[0m \u001b[0mdatetime\u001b[0m\u001b[1;33m.\u001b[0m\u001b[0mtimedelta\u001b[0m\u001b[1;33m(\u001b[0m\u001b[1;36m1\u001b[0m\u001b[1;33m)\u001b[0m\u001b[1;33m\u001b[0m\u001b[1;33m\u001b[0m\u001b[0m\n\u001b[0;32m     13\u001b[0m     \u001b[0mprint\u001b[0m\u001b[1;33m(\u001b[0m\u001b[0mnow\u001b[0m\u001b[1;33m,\u001b[0m \u001b[1;34m\"vs\"\u001b[0m\u001b[1;33m,\u001b[0m \u001b[0mmid\u001b[0m\u001b[1;33m)\u001b[0m\u001b[1;33m\u001b[0m\u001b[1;33m\u001b[0m\u001b[0m\n\u001b[1;32m---> 14\u001b[1;33m     \u001b[0mtime\u001b[0m\u001b[1;33m.\u001b[0m\u001b[0msleep\u001b[0m\u001b[1;33m(\u001b[0m\u001b[1;36m1\u001b[0m\u001b[1;33m)\u001b[0m\u001b[1;33m\u001b[0m\u001b[1;33m\u001b[0m\u001b[0m\n\u001b[0m",
      "\u001b[1;31mKeyboardInterrupt\u001b[0m: "
     ]
    }
   ],
   "source": [
    "import time\n",
    "import datetime\n",
    "\n",
    "now = datetime.datetime.now()\n",
    "mid = datetime.datetime(now.year, now.month, now.day)+datetime.timedelta(1)\n",
    "\n",
    "while True:\n",
    "    now = datetime.datetime.now()\n",
    "    if now == mid:\n",
    "        print(\"정각입니다\")\n",
    "        now = datetime.datetime.now()\n",
    "        mid = datetime.datetime(now.year, now.month, now.day) + datetime.timedelta(1)\n",
    "    print(now, \"vs\", mid)\n",
    "    time.sleep(1)"
   ]
  },
  {
   "cell_type": "code",
   "execution_count": null,
   "metadata": {},
   "outputs": [],
   "source": []
  }
 ],
 "metadata": {
  "kernelspec": {
   "display_name": "Python 3",
   "language": "python",
   "name": "python3"
  },
  "language_info": {
   "codemirror_mode": {
    "name": "ipython",
    "version": 3
   },
   "file_extension": ".py",
   "mimetype": "text/x-python",
   "name": "python",
   "nbconvert_exporter": "python",
   "pygments_lexer": "ipython3",
   "version": "3.8.5"
  }
 },
 "nbformat": 4,
 "nbformat_minor": 4
}
