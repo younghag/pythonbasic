{
 "cells": [
  {
   "cell_type": "code",
   "execution_count": 1,
   "metadata": {},
   "outputs": [
    {
     "name": "stdout",
     "output_type": "stream",
     "text": [
      "signal1 emitted\n",
      "signal2 emitted 1 2\n"
     ]
    },
    {
     "data": {
      "text/plain": [
       "0"
      ]
     },
     "execution_count": 1,
     "metadata": {},
     "output_type": "execute_result"
    }
   ],
   "source": [
    "import sys\n",
    "from PyQt5.QtWidgets import *\n",
    "from PyQt5.QtCore import *\n",
    "\n",
    "\n",
    "class MySignal(QObject):\n",
    "    signal1 = pyqtSignal()\n",
    "    signal2 = pyqtSignal(int, int)\n",
    "\n",
    "    def run(self):\n",
    "        self.signal1.emit()\n",
    "        self.signal2.emit(1, 2)\n",
    "\n",
    "\n",
    "class MyWindow(QMainWindow):\n",
    "    def __init__(self):\n",
    "        super().__init__()\n",
    "\n",
    "        mysignal = MySignal()\n",
    "        mysignal.signal1.connect(self.signal1_emitted)\n",
    "        mysignal.signal2.connect(self.signal2_emitted)\n",
    "        mysignal.run()\n",
    "\n",
    "    @pyqtSlot()\n",
    "    def signal1_emitted(self):\n",
    "        print(\"signal1 emitted\")\n",
    "    \n",
    "    @pyqtSlot(int, int)\n",
    "    def signal2_emitted(self, arg1, arg2):\n",
    "        print(\"signal2 emitted\", arg1, arg2)\n",
    "\n",
    "\n",
    "app = QApplication(sys.argv)\n",
    "window = MyWindow()\n",
    "window.show()\n",
    "app.exec_()"
   ]
  },
  {
   "cell_type": "code",
   "execution_count": null,
   "metadata": {},
   "outputs": [],
   "source": []
  }
 ],
 "metadata": {
  "kernelspec": {
   "display_name": "Python 3",
   "language": "python",
   "name": "python3"
  },
  "language_info": {
   "codemirror_mode": {
    "name": "ipython",
    "version": 3
   },
   "file_extension": ".py",
   "mimetype": "text/x-python",
   "name": "python",
   "nbconvert_exporter": "python",
   "pygments_lexer": "ipython3",
   "version": "3.8.5"
  }
 },
 "nbformat": 4,
 "nbformat_minor": 4
}
