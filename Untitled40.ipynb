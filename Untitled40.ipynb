{
  "nbformat": 4,
  "nbformat_minor": 0,
  "metadata": {
    "colab": {
      "name": "Untitled40.ipynb",
      "provenance": [],
      "authorship_tag": "ABX9TyMBGVjQUtsxZfP+hjLh4ToL",
      "include_colab_link": true
    },
    "kernelspec": {
      "name": "python3",
      "display_name": "Python 3"
    },
    "language_info": {
      "name": "python"
    }
  },
  "cells": [
    {
      "cell_type": "markdown",
      "metadata": {
        "id": "view-in-github",
        "colab_type": "text"
      },
      "source": [
        "<a href=\"https://colab.research.google.com/github/younghag/pythonbasic/blob/main/Untitled40.ipynb\" target=\"_parent\"><img src=\"https://colab.research.google.com/assets/colab-badge.svg\" alt=\"Open In Colab\"/></a>"
      ]
    },
    {
      "cell_type": "code",
      "metadata": {
        "colab": {
          "base_uri": "https://localhost:8080/"
        },
        "id": "oFS9zyU15jPW",
        "outputId": "309f82fa-9e90-483c-cfa7-5ef68e273f1a"
      },
      "source": [
        "def euclid(x,y):\n",
        "  while x % y != 0:\n",
        "    t = x % y\n",
        "    (x,y) = (y,t)\n",
        "    return y\n",
        "print(euclid(12, 8))\n",
        "print(euclid(221,143))\n",
        "  "
      ],
      "execution_count": 14,
      "outputs": [
        {
          "output_type": "stream",
          "text": [
            "4\n",
            "78\n"
          ],
          "name": "stdout"
        }
      ]
    },
    {
      "cell_type": "code",
      "metadata": {
        "colab": {
          "base_uri": "https://localhost:8080/"
        },
        "id": "8nxFa_Xn5kJW",
        "outputId": "d6aa61ad-8b51-47cf-966d-1c4f4f862604"
      },
      "source": [
        "def euclid(x,y):\n",
        "  t = x % y\n",
        "  x, y = y, t\n",
        "  if t == 0:\n",
        "    return x\n",
        "  return euclid(x,y)\n",
        "print(euclid(221,143))"
      ],
      "execution_count": 30,
      "outputs": [
        {
          "output_type": "stream",
          "text": [
            "13\n"
          ],
          "name": "stdout"
        }
      ]
    },
    {
      "cell_type": "code",
      "metadata": {
        "colab": {
          "base_uri": "https://localhost:8080/"
        },
        "id": "VitI_b5gDmUV",
        "outputId": "3bc21484-8d5a-41ee-cda7-8542b2a2da77"
      },
      "source": [
        "def euclid(x,y):\n",
        "  if x%y ==0:\n",
        "    return y\n",
        "  return euclid(x, x%y)\n",
        "\n",
        "print(euclid(12,8))\n",
        "print(euclid(221,143))"
      ],
      "execution_count": 31,
      "outputs": [
        {
          "output_type": "stream",
          "text": [
            "4\n",
            "13\n"
          ],
          "name": "stdout"
        }
      ]
    },
    {
      "cell_type": "code",
      "metadata": {
        "id": "yz_Uj9WjHA-e"
      },
      "source": [
        "def solution(n):\n",
        "  for i in range (1, x+1)\n",
        "  ㅊㅊ#총 실시된 악수는 x(x-1)%2 - x-1 = n\n",
        "  "
      ],
      "execution_count": null,
      "outputs": []
    }
  ]
}