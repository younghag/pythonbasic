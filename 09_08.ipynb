{
 "cells": [
  {
   "cell_type": "code",
   "execution_count": 13,
   "metadata": {},
   "outputs": [
    {
     "ename": "RuntimeError",
     "evalue": "asyncio.run() cannot be called from a running event loop",
     "output_type": "error",
     "traceback": [
      "\u001b[1;31m---------------------------------------------------------------------------\u001b[0m",
      "\u001b[1;31mRuntimeError\u001b[0m                              Traceback (most recent call last)",
      "\u001b[1;32m<ipython-input-13-cc4542788869>\u001b[0m in \u001b[0;36m<module>\u001b[1;34m\u001b[0m\n\u001b[0;32m     12\u001b[0m     \u001b[1;32mawait\u001b[0m \u001b[0mbithumb_ws_client\u001b[0m\u001b[1;33m(\u001b[0m\u001b[1;33m)\u001b[0m\u001b[1;33m\u001b[0m\u001b[1;33m\u001b[0m\u001b[0m\n\u001b[0;32m     13\u001b[0m \u001b[1;33m\u001b[0m\u001b[0m\n\u001b[1;32m---> 14\u001b[1;33m \u001b[0masyncio\u001b[0m\u001b[1;33m.\u001b[0m\u001b[0mrun\u001b[0m\u001b[1;33m(\u001b[0m\u001b[0mmain\u001b[0m\u001b[1;33m(\u001b[0m\u001b[1;33m)\u001b[0m\u001b[1;33m)\u001b[0m\u001b[1;33m\u001b[0m\u001b[1;33m\u001b[0m\u001b[0m\n\u001b[0m",
      "\u001b[1;32m~\\anaconda3\\lib\\asyncio\\runners.py\u001b[0m in \u001b[0;36mrun\u001b[1;34m(main, debug)\u001b[0m\n\u001b[0;32m     31\u001b[0m     \"\"\"\n\u001b[0;32m     32\u001b[0m     \u001b[1;32mif\u001b[0m \u001b[0mevents\u001b[0m\u001b[1;33m.\u001b[0m\u001b[0m_get_running_loop\u001b[0m\u001b[1;33m(\u001b[0m\u001b[1;33m)\u001b[0m \u001b[1;32mis\u001b[0m \u001b[1;32mnot\u001b[0m \u001b[1;32mNone\u001b[0m\u001b[1;33m:\u001b[0m\u001b[1;33m\u001b[0m\u001b[1;33m\u001b[0m\u001b[0m\n\u001b[1;32m---> 33\u001b[1;33m         raise RuntimeError(\n\u001b[0m\u001b[0;32m     34\u001b[0m             \"asyncio.run() cannot be called from a running event loop\")\n\u001b[0;32m     35\u001b[0m \u001b[1;33m\u001b[0m\u001b[0m\n",
      "\u001b[1;31mRuntimeError\u001b[0m: asyncio.run() cannot be called from a running event loop"
     ]
    }
   ],
   "source": []
  },
  {
   "cell_type": "code",
   "execution_count": 1,
   "metadata": {},
   "outputs": [
    {
     "ename": "RuntimeError",
     "evalue": "asyncio.run() cannot be called from a running event loop",
     "output_type": "error",
     "traceback": [
      "\u001b[1;31m---------------------------------------------------------------------------\u001b[0m",
      "\u001b[1;31mRuntimeError\u001b[0m                              Traceback (most recent call last)",
      "\u001b[1;32m<ipython-input-1-f49421f76a20>\u001b[0m in \u001b[0;36m<module>\u001b[1;34m\u001b[0m\n\u001b[0;32m     27\u001b[0m     \u001b[1;32mawait\u001b[0m \u001b[0mbithumb_ws_client\u001b[0m\u001b[1;33m(\u001b[0m\u001b[1;33m)\u001b[0m\u001b[1;33m\u001b[0m\u001b[1;33m\u001b[0m\u001b[0m\n\u001b[0;32m     28\u001b[0m \u001b[1;33m\u001b[0m\u001b[0m\n\u001b[1;32m---> 29\u001b[1;33m \u001b[0masyncio\u001b[0m\u001b[1;33m.\u001b[0m\u001b[0mrun\u001b[0m\u001b[1;33m(\u001b[0m\u001b[0mmain\u001b[0m\u001b[1;33m(\u001b[0m\u001b[1;33m)\u001b[0m\u001b[1;33m)\u001b[0m\u001b[1;33m\u001b[0m\u001b[1;33m\u001b[0m\u001b[0m\n\u001b[0m",
      "\u001b[1;32m~\\anaconda3\\lib\\asyncio\\runners.py\u001b[0m in \u001b[0;36mrun\u001b[1;34m(main, debug)\u001b[0m\n\u001b[0;32m     31\u001b[0m     \"\"\"\n\u001b[0;32m     32\u001b[0m     \u001b[1;32mif\u001b[0m \u001b[0mevents\u001b[0m\u001b[1;33m.\u001b[0m\u001b[0m_get_running_loop\u001b[0m\u001b[1;33m(\u001b[0m\u001b[1;33m)\u001b[0m \u001b[1;32mis\u001b[0m \u001b[1;32mnot\u001b[0m \u001b[1;32mNone\u001b[0m\u001b[1;33m:\u001b[0m\u001b[1;33m\u001b[0m\u001b[1;33m\u001b[0m\u001b[0m\n\u001b[1;32m---> 33\u001b[1;33m         raise RuntimeError(\n\u001b[0m\u001b[0;32m     34\u001b[0m             \"asyncio.run() cannot be called from a running event loop\")\n\u001b[0;32m     35\u001b[0m \u001b[1;33m\u001b[0m\u001b[0m\n",
      "\u001b[1;31mRuntimeError\u001b[0m: asyncio.run() cannot be called from a running event loop"
     ]
    }
   ],
   "source": [
    "import websockets\n",
    "import asyncio \n",
    "import json\n",
    "\n",
    "async def bithumb_ws_client():\n",
    "    uri = \"wss://pubwss.bithumb.com/pub/ws\"\n",
    "    \n",
    "    async with websockets.connect(uri, ping_interval=None) as websocket:\n",
    "        greeting = await websocket.recv()\n",
    "        print(greeting)\n",
    "        \n",
    "        subscribe_fmt = {\n",
    "            \"type\":\"ticker\", \n",
    "            \"symbols\": [\"BTC_KRW\"], \n",
    "            \"tickTypes\": [\"1H\"]\n",
    "        }\n",
    "        \n",
    "        subscribe_data = json.dumps(subscribe_fmt)\n",
    "        await websocket.send(subscribe_data)\n",
    "        \n",
    "        while True:\n",
    "            data = await websocket.recv()\n",
    "            data = json.loads(data)\n",
    "            print(data)\n",
    "            \n",
    "async def main():\n",
    "    await bithumb_ws_client()\n",
    "    \n",
    "asyncio.run(main())"
   ]
  },
  {
   "cell_type": "code",
   "execution_count": 9,
   "metadata": {},
   "outputs": [
    {
     "name": "stderr",
     "output_type": "stream",
     "text": [
      "C:\\Users\\Hak\\anaconda3\\lib\\site-packages\\IPython\\core\\compilerop.py:101: RuntimeWarning: coroutine 'main' was never awaited\n",
      "  return compile(source, filename, symbol, self.flags | PyCF_ONLY_AST, 1)\n",
      "RuntimeWarning: Enable tracemalloc to get the object allocation traceback\n"
     ]
    },
    {
     "name": "stdout",
     "output_type": "stream",
     "text": [
      "Requirement already satisfied: websockets in c:\\users\\hak\\anaconda3\\lib\\site-packages (8.1)\n",
      "Collecting websocket\n",
      "  Downloading websocket-0.2.1.tar.gz (195 kB)\n",
      "Requirement already satisfied: gevent in c:\\users\\hak\\anaconda3\\lib\\site-packages (from websocket) (20.9.0)\n",
      "Requirement already satisfied: greenlet in c:\\users\\hak\\anaconda3\\lib\\site-packages (from websocket) (0.4.17)\n",
      "Requirement already satisfied: setuptools in c:\\users\\hak\\anaconda3\\lib\\site-packages (from gevent->websocket) (50.3.1.post20201107)\n",
      "Requirement already satisfied: zope.interface in c:\\users\\hak\\anaconda3\\lib\\site-packages (from gevent->websocket) (5.1.2)\n",
      "Requirement already satisfied: zope.event in c:\\users\\hak\\anaconda3\\lib\\site-packages (from gevent->websocket) (4.5.0)\n",
      "Requirement already satisfied: cffi>=1.12.2; platform_python_implementation == \"CPython\" and sys_platform == \"win32\" in c:\\users\\hak\\anaconda3\\lib\\site-packages (from gevent->websocket) (1.14.3)\n",
      "Requirement already satisfied: pycparser in c:\\users\\hak\\anaconda3\\lib\\site-packages (from cffi>=1.12.2; platform_python_implementation == \"CPython\" and sys_platform == \"win32\"->gevent->websocket) (2.20)\n",
      "Building wheels for collected packages: websocket\n",
      "  Building wheel for websocket (setup.py): started\n",
      "  Building wheel for websocket (setup.py): finished with status 'done'\n",
      "  Created wheel for websocket: filename=websocket-0.2.1-py3-none-any.whl size=192138 sha256=0d3d5f5c50e39fd421178d958b316d56b54f98ca51888c522f7ffa37e5c00366\n",
      "  Stored in directory: c:\\users\\hak\\appdata\\local\\pip\\cache\\wheels\\22\\8c\\62\\9329dba609b51d2bd45684b004e55681ca619e123b4554d065\n",
      "Successfully built websocket\n",
      "Installing collected packages: websocket\n",
      "Successfully installed websocket-0.2.1\n",
      "Requirement already satisfied: websockets in c:\\users\\hak\\anaconda3\\lib\\site-packages (8.1)\n",
      "Note: you may need to restart the kernel to use updated packages.\n"
     ]
    }
   ],
   "source": [
    "pip install websockets"
   ]
  },
  {
   "cell_type": "code",
   "execution_count": null,
   "metadata": {},
   "outputs": [],
   "source": []
  }
 ],
 "metadata": {
  "kernelspec": {
   "display_name": "Python 3",
   "language": "python",
   "name": "python3"
  },
  "language_info": {
   "codemirror_mode": {
    "name": "ipython",
    "version": 3
   },
   "file_extension": ".py",
   "mimetype": "text/x-python",
   "name": "python",
   "nbconvert_exporter": "python",
   "pygments_lexer": "ipython3",
   "version": "3.8.5"
  }
 },
 "nbformat": 4,
 "nbformat_minor": 4
}
