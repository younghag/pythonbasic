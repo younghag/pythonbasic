{
  "nbformat": 4,
  "nbformat_minor": 0,
  "metadata": {
    "colab": {
      "name": "FridayQuiz27.ipynb",
      "provenance": [],
      "authorship_tag": "ABX9TyMZbUbe8LYmMYH4WFzUZxD5",
      "include_colab_link": true
    },
    "kernelspec": {
      "name": "python3",
      "display_name": "Python 3"
    }
  },
  "cells": [
    {
      "cell_type": "markdown",
      "metadata": {
        "id": "view-in-github",
        "colab_type": "text"
      },
      "source": [
        "<a href=\"https://colab.research.google.com/github/younghag/pythonbasic/blob/main/FridayQuiz27.ipynb\" target=\"_parent\"><img src=\"https://colab.research.google.com/assets/colab-badge.svg\" alt=\"Open In Colab\"/></a>"
      ]
    },
    {
      "cell_type": "code",
      "metadata": {
        "colab": {
          "base_uri": "https://localhost:8080/",
          "height": 230
        },
        "id": "hQ44ISc-xZHI",
        "outputId": "d1f27d75-312c-4c6e-c1ea-f1b156a6bb2b"
      },
      "source": [
        "a,b = map(int,input(\"name keys\").split())\r\n",
        "c,d = map(int, input(\"number values\").split())\r\n",
        "print(a+c, b+d)"
      ],
      "execution_count": 14,
      "outputs": [
        {
          "output_type": "stream",
          "text": [
            "name keysd d\n"
          ],
          "name": "stdout"
        },
        {
          "output_type": "error",
          "ename": "ValueError",
          "evalue": "ignored",
          "traceback": [
            "\u001b[0;31m---------------------------------------------------------------------------\u001b[0m",
            "\u001b[0;31mValueError\u001b[0m                                Traceback (most recent call last)",
            "\u001b[0;32m<ipython-input-14-ab306a234386>\u001b[0m in \u001b[0;36m<module>\u001b[0;34m()\u001b[0m\n\u001b[0;32m----> 1\u001b[0;31m \u001b[0ma\u001b[0m\u001b[0;34m,\u001b[0m\u001b[0mb\u001b[0m \u001b[0;34m=\u001b[0m \u001b[0mmap\u001b[0m\u001b[0;34m(\u001b[0m\u001b[0mint\u001b[0m\u001b[0;34m,\u001b[0m\u001b[0minput\u001b[0m\u001b[0;34m(\u001b[0m\u001b[0;34m\"name keys\"\u001b[0m\u001b[0;34m)\u001b[0m\u001b[0;34m.\u001b[0m\u001b[0msplit\u001b[0m\u001b[0;34m(\u001b[0m\u001b[0;34m)\u001b[0m\u001b[0;34m)\u001b[0m\u001b[0;34m\u001b[0m\u001b[0;34m\u001b[0m\u001b[0m\n\u001b[0m\u001b[1;32m      2\u001b[0m \u001b[0mc\u001b[0m\u001b[0;34m,\u001b[0m\u001b[0md\u001b[0m \u001b[0;34m=\u001b[0m \u001b[0mmap\u001b[0m\u001b[0;34m(\u001b[0m\u001b[0mint\u001b[0m\u001b[0;34m,\u001b[0m \u001b[0minput\u001b[0m\u001b[0;34m(\u001b[0m\u001b[0;34m\"number values\"\u001b[0m\u001b[0;34m)\u001b[0m\u001b[0;34m.\u001b[0m\u001b[0msplit\u001b[0m\u001b[0;34m(\u001b[0m\u001b[0;34m)\u001b[0m\u001b[0;34m)\u001b[0m\u001b[0;34m\u001b[0m\u001b[0;34m\u001b[0m\u001b[0m\n\u001b[1;32m      3\u001b[0m \u001b[0mprint\u001b[0m\u001b[0;34m(\u001b[0m\u001b[0ma\u001b[0m\u001b[0;34m+\u001b[0m\u001b[0mc\u001b[0m\u001b[0;34m,\u001b[0m \u001b[0mb\u001b[0m\u001b[0;34m+\u001b[0m\u001b[0md\u001b[0m\u001b[0;34m)\u001b[0m\u001b[0;34m\u001b[0m\u001b[0;34m\u001b[0m\u001b[0m\n",
            "\u001b[0;31mValueError\u001b[0m: invalid literal for int() with base 10: 'd'"
          ]
        }
      ]
    },
    {
      "cell_type": "code",
      "metadata": {
        "colab": {
          "base_uri": "https://localhost:8080/"
        },
        "id": "IBnNzCDcyLO9",
        "outputId": "14c2605c-d443-4105-b1dd-1a12f239d90b"
      },
      "source": [
        "a = input().split()\r\n",
        "alist=list(a)\r\n",
        "print(a)"
      ],
      "execution_count": 11,
      "outputs": [
        {
          "output_type": "stream",
          "text": [
            "a a a\n",
            "['a', 'a', 'a']\n"
          ],
          "name": "stdout"
        }
      ]
    },
    {
      "cell_type": "code",
      "metadata": {
        "colab": {
          "base_uri": "https://localhost:8080/"
        },
        "id": "DDbyAEgd0faF",
        "outputId": "ba8b19fc-6165-4319-a490-953cced39e79"
      },
      "source": [
        "a=input().split()\r\n",
        "print(a)"
      ],
      "execution_count": 13,
      "outputs": [
        {
          "output_type": "stream",
          "text": [
            "d d\n",
            "['d', 'd']\n"
          ],
          "name": "stdout"
        }
      ]
    },
    {
      "cell_type": "code",
      "metadata": {
        "colab": {
          "base_uri": "https://localhost:8080/"
        },
        "id": "FiSZkCkw1tCv",
        "outputId": "5aaedc0a-58a6-4526-f2b0-b64ce6ef2b39"
      },
      "source": [
        "a = [1,2,3,4]\r\n",
        "b = [100,200,300,400]\r\n",
        "print(list(zip(a,b)))"
      ],
      "execution_count": 18,
      "outputs": [
        {
          "output_type": "stream",
          "text": [
            "[(1, 100), (2, 200), (3, 300), (4, 400)]\n"
          ],
          "name": "stdout"
        }
      ]
    },
    {
      "cell_type": "code",
      "metadata": {
        "colab": {
          "base_uri": "https://localhost:8080/"
        },
        "id": "32tr8W3U3Mge",
        "outputId": "2dccdb6c-4f9b-4fed-84f8-8c8f4d8e4d3c"
      },
      "source": [
        "#27\r\n",
        "key = input().split()\r\n",
        "value = map(int, input().split())\r\n",
        "\r\n",
        "print(dict(zip(key,value)))"
      ],
      "execution_count": 23,
      "outputs": [
        {
          "output_type": "stream",
          "text": [
            "Yujin Hyewon\n",
            "70 100\n",
            "{'Yujin': 70, 'Hyewon': 100}\n"
          ],
          "name": "stdout"
        }
      ]
    },
    {
      "cell_type": "code",
      "metadata": {
        "colab": {
          "base_uri": "https://localhost:8080/"
        },
        "id": "E3lE9KSG6BYd",
        "outputId": "2a6830ed-45f8-48b8-fc2f-6cd9fcd6ce91"
      },
      "source": [
        "# 28\r\n",
        "txt = input()\r\n",
        "for i in range(len(txt)-1):\r\n",
        "  print(txt[i],txt[i+1], sep='')\r\n"
      ],
      "execution_count": 33,
      "outputs": [
        {
          "output_type": "stream",
          "text": [
            "Python\n",
            "Py\n",
            "yt\n",
            "th\n",
            "ho\n",
            "on\n"
          ],
          "name": "stdout"
        }
      ]
    },
    {
      "cell_type": "code",
      "metadata": {
        "colab": {
          "base_uri": "https://localhost:8080/"
        },
        "id": "iwlSYQRc-vsa",
        "outputId": "df90d26b-7f9e-492f-fd7f-e0da902e9e40"
      },
      "source": [
        "#29\r\n",
        "a = input(\"\")\r\n",
        "if a.upper() == a:\r\n",
        "  print(\"Yes\")\r\n",
        "else: \r\n",
        "  print(\"No\")"
      ],
      "execution_count": 56,
      "outputs": [
        {
          "output_type": "stream",
          "text": [
            "a\n",
            "No\n"
          ],
          "name": "stdout"
        }
      ]
    },
    {
      "cell_type": "code",
      "metadata": {
        "colab": {
          "base_uri": "https://localhost:8080/"
        },
        "id": "KIDgF8HTCncd",
        "outputId": "8d0483c8-79e3-4eb6-b417-8ac927333f6d"
      },
      "source": [
        "a = input()\r\n",
        "if a. isupper:\r\n",
        "  print(\"Yes\")\r\n",
        "else: \r\n",
        "  print(\"No\")"
      ],
      "execution_count": 59,
      "outputs": [
        {
          "output_type": "stream",
          "text": [
            "A\n",
            "Yes\n"
          ],
          "name": "stdout"
        }
      ]
    },
    {
      "cell_type": "code",
      "metadata": {
        "colab": {
          "base_uri": "https://localhost:8080/"
        },
        "id": "t658_9oBDc_d",
        "outputId": "cf0df465-f3fa-49e4-8420-1c825086b900"
      },
      "source": [
        "txt = input()\r\n",
        "if ord(txt)>= 65 and ord(txt) <= 90:\r\n",
        "  print(\"Yes\")\r\n",
        "else: print(\"No\")"
      ],
      "execution_count": 63,
      "outputs": [
        {
          "output_type": "stream",
          "text": [
            "B\n",
            "Yes\n"
          ],
          "name": "stdout"
        }
      ]
    },
    {
      "cell_type": "code",
      "metadata": {
        "colab": {
          "base_uri": "https://localhost:8080/"
        },
        "id": "v8khIok5Fkl3",
        "outputId": "d358b59a-1453-41c9-c5ce-839deabd60aa"
      },
      "source": [
        "txt = input()\r\n",
        "if txt >=chr(65) and txt <= chr(90):\r\n",
        "  print(\"yes\")\r\n",
        "else:\r\n",
        "  print(\"no\")"
      ],
      "execution_count": 65,
      "outputs": [
        {
          "output_type": "stream",
          "text": [
            "A\n",
            "yes\n"
          ],
          "name": "stdout"
        }
      ]
    },
    {
      "cell_type": "code",
      "metadata": {
        "colab": {
          "base_uri": "https://localhost:8080/"
        },
        "id": "spXgiL-CGWRc",
        "outputId": "24530e38-7e60-49a5-e3a8-aa1eede21495"
      },
      "source": [
        "# 30 (find, index 함수 공부하기)\r\n",
        "txt = input()\r\n",
        "intxt = input()\r\n",
        "if intxt in txt:\r\n",
        "  print(txt.find(intxt))"
      ],
      "execution_count": 68,
      "outputs": [
        {
          "output_type": "stream",
          "text": [
            "pineapple\n",
            "apple\n",
            "4\n"
          ],
          "name": "stdout"
        }
      ]
    },
    {
      "cell_type": "code",
      "metadata": {
        "colab": {
          "base_uri": "https://localhost:8080/"
        },
        "id": "YbPn1oZHGVun",
        "outputId": "4af9ca5e-5be6-49ca-85ed-75634b52b381"
      },
      "source": [
        "a = [1,2,3,4]\r\n",
        "len(a)"
      ],
      "execution_count": 75,
      "outputs": [
        {
          "output_type": "execute_result",
          "data": {
            "text/plain": [
              "4"
            ]
          },
          "metadata": {
            "tags": []
          },
          "execution_count": 75
        }
      ]
    },
    {
      "cell_type": "code",
      "metadata": {
        "colab": {
          "base_uri": "https://localhost:8080/"
        },
        "id": "4R4rwIkiQokK",
        "outputId": "8bee587d-1123-48fb-acf6-6303fda00ee6"
      },
      "source": [
        "a = list(input().split())\r\n",
        "len(a)"
      ],
      "execution_count": 86,
      "outputs": [
        {
          "output_type": "stream",
          "text": [
            "빅데이터\n"
          ],
          "name": "stdout"
        },
        {
          "output_type": "execute_result",
          "data": {
            "text/plain": [
              "1"
            ]
          },
          "metadata": {
            "tags": []
          },
          "execution_count": 86
        }
      ]
    },
    {
      "cell_type": "code",
      "metadata": {
        "colab": {
          "base_uri": "https://localhost:8080/"
        },
        "id": "04hrgIYcRl64",
        "outputId": "3fe841ec-0bab-444c-f483-15707fd3c66f"
      },
      "source": [
        "#쓸데없는거를 날려줌 (strip) 31번 strip 안쓰나용?\r\n",
        "txt = \" 빅 데이터 \"\r\n",
        "\r\n",
        "print(txt.strip())"
      ],
      "execution_count": 89,
      "outputs": [
        {
          "output_type": "stream",
          "text": [
            "빅 데이터\n"
          ],
          "name": "stdout"
        }
      ]
    },
    {
      "cell_type": "code",
      "metadata": {
        "colab": {
          "base_uri": "https://localhost:8080/",
          "height": 230
        },
        "id": "LS7TtGFyT2x9",
        "outputId": "17331c58-4c6a-4877-c097-48e90c5eaa2a"
      },
      "source": [
        "txt = map(int, input().split())\r\n",
        "txt.reverse()\r\n",
        "print(txt)"
      ],
      "execution_count": 96,
      "outputs": [
        {
          "output_type": "stream",
          "text": [
            "1 2 3\n"
          ],
          "name": "stdout"
        },
        {
          "output_type": "error",
          "ename": "AttributeError",
          "evalue": "ignored",
          "traceback": [
            "\u001b[0;31m---------------------------------------------------------------------------\u001b[0m",
            "\u001b[0;31mAttributeError\u001b[0m                            Traceback (most recent call last)",
            "\u001b[0;32m<ipython-input-96-c8a681868b44>\u001b[0m in \u001b[0;36m<module>\u001b[0;34m()\u001b[0m\n\u001b[1;32m      1\u001b[0m \u001b[0mtxt\u001b[0m \u001b[0;34m=\u001b[0m \u001b[0mmap\u001b[0m\u001b[0;34m(\u001b[0m\u001b[0mint\u001b[0m\u001b[0;34m,\u001b[0m \u001b[0minput\u001b[0m\u001b[0;34m(\u001b[0m\u001b[0;34m)\u001b[0m\u001b[0;34m.\u001b[0m\u001b[0msplit\u001b[0m\u001b[0;34m(\u001b[0m\u001b[0;34m)\u001b[0m\u001b[0;34m)\u001b[0m\u001b[0;34m\u001b[0m\u001b[0;34m\u001b[0m\u001b[0m\n\u001b[0;32m----> 2\u001b[0;31m \u001b[0mtxt\u001b[0m\u001b[0;34m.\u001b[0m\u001b[0mreverse\u001b[0m\u001b[0;34m(\u001b[0m\u001b[0;34m)\u001b[0m\u001b[0;34m\u001b[0m\u001b[0;34m\u001b[0m\u001b[0m\n\u001b[0m\u001b[1;32m      3\u001b[0m \u001b[0mprint\u001b[0m\u001b[0;34m(\u001b[0m\u001b[0mtxt\u001b[0m\u001b[0;34m)\u001b[0m\u001b[0;34m\u001b[0m\u001b[0;34m\u001b[0m\u001b[0m\n",
            "\u001b[0;31mAttributeError\u001b[0m: 'map' object has no attribute 'reverse'"
          ]
        }
      ]
    },
    {
      "cell_type": "code",
      "metadata": {
        "colab": {
          "base_uri": "https://localhost:8080/"
        },
        "id": "6V0P8UgKUxlc",
        "outputId": "7961019e-197c-4286-9bd1-8df5727e5374"
      },
      "source": [
        "txt = input()\r\n",
        "txt2 = list(txt.split())\r\n",
        "txt3 = [int(i) for i in txt2]\r\n",
        "\r\n",
        "for i in range (len(txt3)-1, -1, -1):\r\n",
        "  print(txt3[i], end=' ')"
      ],
      "execution_count": 98,
      "outputs": [
        {
          "output_type": "stream",
          "text": [
            "1 2 3 4 5\n",
            "5 4 3 2 1 "
          ],
          "name": "stdout"
        }
      ]
    },
    {
      "cell_type": "code",
      "metadata": {
        "colab": {
          "base_uri": "https://localhost:8080/",
          "height": 193
        },
        "id": "2KbizmghbBUo",
        "outputId": "3bafa063-c999-4015-c322-e1bdea895a79"
      },
      "source": [
        "a = int(input())"
      ],
      "execution_count": 106,
      "outputs": [
        {
          "output_type": "stream",
          "text": [
            "102, 103\n"
          ],
          "name": "stdout"
        },
        {
          "output_type": "error",
          "ename": "ValueError",
          "evalue": "ignored",
          "traceback": [
            "\u001b[0;31m---------------------------------------------------------------------------\u001b[0m",
            "\u001b[0;31mValueError\u001b[0m                                Traceback (most recent call last)",
            "\u001b[0;32m<ipython-input-106-91869f0d3d8c>\u001b[0m in \u001b[0;36m<module>\u001b[0;34m()\u001b[0m\n\u001b[0;32m----> 1\u001b[0;31m \u001b[0ma\u001b[0m \u001b[0;34m=\u001b[0m \u001b[0mint\u001b[0m\u001b[0;34m(\u001b[0m\u001b[0minput\u001b[0m\u001b[0;34m(\u001b[0m\u001b[0;34m)\u001b[0m\u001b[0;34m)\u001b[0m\u001b[0;34m\u001b[0m\u001b[0;34m\u001b[0m\u001b[0m\n\u001b[0m",
            "\u001b[0;31mValueError\u001b[0m: invalid literal for int() with base 10: '102, 103'"
          ]
        }
      ]
    },
    {
      "cell_type": "code",
      "metadata": {
        "id": "A9Bv8j1Fcwg3"
      },
      "source": [
        "# <list>sort()를 사용하면 원본 리스트 자체의 순서를 정렬한다.\r\n",
        "#sorted(<list>)를 사용하면 정렬된 새로운 리스트를 반환 받는다.\r\n",
        "#<list>.sort()는 새로운 복사본을 만들지 않기 때문에 sorted(<list>)보다 빠르다."
      ],
      "execution_count": 107,
      "outputs": []
    },
    {
      "cell_type": "code",
      "metadata": {
        "colab": {
          "base_uri": "https://localhost:8080/"
        },
        "id": "eO3yg4-JfwY5",
        "outputId": "50cd4143-86b2-40f2-b754-d5715cf7854a"
      },
      "source": [
        "num1 = input()\r\n",
        "\r\n",
        "num2 = num1.strip().split()\r\n",
        "\r\n",
        "num3 = [int(i) for i in num2 ]\r\n",
        "\r\n",
        "if num3 != sorted(num3):\r\n",
        "  print(\"NO\")\r\n",
        "else:\r\n",
        "  print(\"YES\")"
      ],
      "execution_count": 115,
      "outputs": [
        {
          "output_type": "stream",
          "text": [
            "1 2 3 4 5\n",
            "YES\n"
          ],
          "name": "stdout"
        }
      ]
    },
    {
      "cell_type": "code",
      "metadata": {
        "colab": {
          "base_uri": "https://localhost:8080/"
        },
        "id": "j_3Hj3uzg7Td",
        "outputId": "4899625c-ddcc-4569-af58-ff3b538c75d9"
      },
      "source": [
        "i = int(input())\r\n",
        "for j in range(1, 10):\r\n",
        "  print(i*j, end= ' ')"
      ],
      "execution_count": 141,
      "outputs": [
        {
          "output_type": "stream",
          "text": [
            "2\n",
            "2 4 6 8 10 12 14 16 18 "
          ],
          "name": "stdout"
        }
      ]
    },
    {
      "cell_type": "code",
      "metadata": {
        "colab": {
          "base_uri": "https://localhost:8080/"
        },
        "id": "0_1hgINii59l",
        "outputId": "17800e2b-059d-44e7-ff25-854dfc946691"
      },
      "source": [
        "a = input()\r\n",
        "if a.count(\"은비\") > a.count(\"원영\") or a.count(\"은비\") > a.count(\"채연\"):\r\n",
        "  print(\"은비가 총 %d표를 받아 반장이 되었습니다.\" % a.count(\"은비\"))\r\n",
        "elif a.count(\"원영\")>  a.count(\"은비\") or a.count(\"원영\") > a.count(\"채연\"):\r\n",
        "  print(\"원영이가 총 %d표를 받아 반장이 되었습니다.\" % a.count(\"원영\"))\r\n",
        "elif a.count(\"채연\") > a.count(\"은비\") or a.count(\"채연\") > a.count(\"원영\"):\r\n",
        "  print(\"채연이가 총 %d표를 받아 반장이 되었습니다.\" % a.count(\"채연\"))\r\n",
        "\r\n",
        "\r\n"
      ],
      "execution_count": 163,
      "outputs": [
        {
          "output_type": "stream",
          "text": [
            "은비 은비 은비 채연 채연 원영\n",
            "은비가 총 3표를 받아 반장이 되었습니다.\n"
          ],
          "name": "stdout"
        }
      ]
    },
    {
      "cell_type": "code",
      "metadata": {
        "colab": {
          "base_uri": "https://localhost:8080/"
        },
        "id": "4f7ZggQY1fIh",
        "outputId": "9346d9a9-460e-4f17-e07a-2806bb4574f8"
      },
      "source": [
        "a = input().split() # (은비 은비 은비 은비 채연채연채연 원영원영)\r\n",
        "b = list(set(a)) # {은비, 채연, 원영}\r\n",
        "\r\n",
        "max = 0\r\n",
        "for i in range(len(b)): # 0 1 2\r\n",
        "  if a.count(b[i])> a.count(b[max]):\r\n",
        "    max = i\r\n",
        "print(\"%s(이)가 총 %d표로 반장이 되었습니다.\" % (b[max], a.count(b[max])))"
      ],
      "execution_count": 169,
      "outputs": [
        {
          "output_type": "stream",
          "text": [
            "은비 은비 은비 은비 원영 원영 원영 채연 채연\n",
            "은비(이)가 총 4표로 반장이 되었습니다.\n"
          ],
          "name": "stdout"
        }
      ]
    },
    {
      "cell_type": "code",
      "metadata": {
        "colab": {
          "base_uri": "https://localhost:8080/"
        },
        "id": "O1iDWiGq9K9Z",
        "outputId": "c5988637-f9bc-4618-f376-bb989f9ea079"
      },
      "source": [
        "a = input()\r\n",
        "print(a.replace('q', 'e'))"
      ],
      "execution_count": 170,
      "outputs": [
        {
          "output_type": "stream",
          "text": [
            "qqqqqqqqqqqqqqqqqqqqq\n",
            "eeeeeeeeeeeeeeeeeeeee\n"
          ],
          "name": "stdout"
        }
      ]
    },
    {
      "cell_type": "code",
      "metadata": {
        "colab": {
          "base_uri": "https://localhost:8080/"
        },
        "id": "4QHvPXmpElBf",
        "outputId": "2d2d1252-774c-4571-d1c3-bff8b726f01f"
      },
      "source": [
        "5 % 3"
      ],
      "execution_count": 182,
      "outputs": [
        {
          "output_type": "execute_result",
          "data": {
            "text/plain": [
              "2"
            ]
          },
          "metadata": {
            "tags": []
          },
          "execution_count": 182
        }
      ]
    },
    {
      "cell_type": "code",
      "metadata": {
        "colab": {
          "base_uri": "https://localhost:8080/",
          "height": 138
        },
        "id": "oc9TxAQfD633",
        "outputId": "d38e3328-8b2f-4bfa-f06a-a71307e14fe1"
      },
      "source": [
        "num = int(input())\r\n",
        "\r\n",
        "for i in range (2, num):\r\n",
        "  if num % i != 0:\r\n",
        "    print(\"No\")\r\n",
        "  else: \r\n",
        "    print(\"Yes\")"
      ],
      "execution_count": 205,
      "outputs": [
        {
          "output_type": "error",
          "ename": "IndentationError",
          "evalue": "ignored",
          "traceback": [
            "\u001b[0;36m  File \u001b[0;32m\"<ipython-input-205-56ed2c703992>\"\u001b[0;36m, line \u001b[0;32m5\u001b[0m\n\u001b[0;31m    print(\"No\")\u001b[0m\n\u001b[0m        ^\u001b[0m\n\u001b[0;31mIndentationError\u001b[0m\u001b[0;31m:\u001b[0m expected an indented block\n"
          ]
        }
      ]
    },
    {
      "cell_type": "code",
      "metadata": {
        "colab": {
          "base_uri": "https://localhost:8080/",
          "height": 138
        },
        "id": "1cp_P_4rE3eA",
        "outputId": "5809f9a3-4958-41f0-fb44-cc6827ebea85"
      },
      "source": [
        "2 3 5 7 11 13 17 19 23 29 "
      ],
      "execution_count": 197,
      "outputs": [
        {
          "output_type": "error",
          "ename": "SyntaxError",
          "evalue": "ignored",
          "traceback": [
            "\u001b[0;36m  File \u001b[0;32m\"<ipython-input-197-c83df41611be>\"\u001b[0;36m, line \u001b[0;32m1\u001b[0m\n\u001b[0;31m    2 3 5 7 11 13 17 19 23 29\u001b[0m\n\u001b[0m      ^\u001b[0m\n\u001b[0;31mSyntaxError\u001b[0m\u001b[0;31m:\u001b[0m invalid syntax\n"
          ]
        }
      ]
    },
    {
      "cell_type": "code",
      "metadata": {
        "colab": {
          "base_uri": "https://localhost:8080/"
        },
        "id": "v7mJU2ZbJ_hL",
        "outputId": "9d4459fb-8de1-4a3f-8baf-d11e44c31e70"
      },
      "source": [
        "a = int(input())\r\n",
        "\r\n",
        "re = 0\r\n",
        "for i in range (1, a+1):\r\n",
        "  if a % i == 0:\r\n",
        "    re += 1\r\n",
        "if re == 2:\r\n",
        "  print('Yes')\r\n",
        "else: print(\"no\")"
      ],
      "execution_count": 200,
      "outputs": [
        {
          "output_type": "stream",
          "text": [
            "11\n",
            "Yes\n"
          ],
          "name": "stdout"
        }
      ]
    },
    {
      "cell_type": "code",
      "metadata": {
        "colab": {
          "base_uri": "https://localhost:8080/"
        },
        "id": "SqbRhRlHKQmf",
        "outputId": "55de9f64-a5ec-490c-a79e-de8d7c17108d"
      },
      "source": [
        "nums = input()\r\n",
        "total = 0\r\n",
        "for i in range(len(nums)):\r\n",
        "  total = total + int(nums)\r\n",
        "print(total)"
      ],
      "execution_count": 6,
      "outputs": [
        {
          "output_type": "stream",
          "text": [
            "55\n",
            "110\n"
          ],
          "name": "stdout"
        }
      ]
    },
    {
      "cell_type": "code",
      "metadata": {
        "colab": {
          "base_uri": "https://localhost:8080/"
        },
        "id": "9NuzqhLoQG3V",
        "outputId": "f0bb3cb8-6811-4e37-cad0-35472c665c76"
      },
      "source": [
        "num = input()\r\n",
        "print(sum(map(int, num)))"
      ],
      "execution_count": 11,
      "outputs": [
        {
          "output_type": "stream",
          "text": [
            "1234\n",
            "10\n"
          ],
          "name": "stdout"
        }
      ]
    },
    {
      "cell_type": "code",
      "metadata": {
        "colab": {
          "base_uri": "https://localhost:8080/"
        },
        "id": "MQBzu2NWRojX",
        "outputId": "b8bde343-29b9-4105-ebbb-d8b6c5456e42"
      },
      "source": [
        "n = list(map(int, input()))\r\n",
        "sum = 0\r\n",
        "for i in n:\r\n",
        "  sum +=i\r\n",
        "print(sum)"
      ],
      "execution_count": 13,
      "outputs": [
        {
          "output_type": "stream",
          "text": [
            "555\n",
            "15\n"
          ],
          "name": "stdout"
        }
      ]
    },
    {
      "cell_type": "code",
      "metadata": {
        "colab": {
          "base_uri": "https://localhost:8080/"
        },
        "id": "1Ubi8sstULzv",
        "outputId": "4904c30a-d867-4e25-a328-c698b9e691ab"
      },
      "source": [
        "sum = 0\r\n",
        "for i in input():\r\n",
        "  sum += int"
      ],
      "execution_count": 14,
      "outputs": [
        {
          "output_type": "stream",
          "text": [
            "555\n",
            "15\n"
          ],
          "name": "stdout"
        }
      ]
    },
    {
      "cell_type": "code",
      "metadata": {
        "colab": {
          "base_uri": "https://localhost:8080/"
        },
        "id": "hbN1iJ5mUerd",
        "outputId": "9aaeb20d-dc63-4b8f-fc80-edfec4514142"
      },
      "source": [
        "for i in range"
      ],
      "execution_count": 23,
      "outputs": [
        {
          "output_type": "stream",
          "text": [
            "1635\n"
          ],
          "name": "stdout"
        }
      ]
    },
    {
      "cell_type": "code",
      "metadata": {
        "colab": {
          "base_uri": "https://localhost:8080/"
        },
        "id": "9_uVenPrU4Yd",
        "outputId": "4e0a9e7c-9403-4715-b790-3cfe081540b6"
      },
      "source": [
        "i=1\r\n",
        "for i in range (1, 20):\r\n",
        "  sum += i\r\n",
        "print(sum)"
      ],
      "execution_count": 21,
      "outputs": [
        {
          "output_type": "stream",
          "text": [
            "1425\n"
          ],
          "name": "stdout"
        }
      ]
    },
    {
      "cell_type": "code",
      "metadata": {
        "colab": {
          "base_uri": "https://localhost:8080/"
        },
        "id": "X2iHuWU7VNOF",
        "outputId": "6d6345d8-1cad-49ae-b789-c89be79dedcd"
      },
      "source": [
        "sum = 0\r\n",
        "for i in list(range(21)):\r\n",
        "  print(i)\r\n",
        "  for j in str(i):\r\n",
        "    sum += int(j)\r\n",
        "print(sum)"
      ],
      "execution_count": 29,
      "outputs": [
        {
          "output_type": "stream",
          "text": [
            "0\n",
            "1\n",
            "2\n",
            "3\n",
            "4\n",
            "5\n",
            "6\n",
            "7\n",
            "8\n",
            "9\n",
            "10\n",
            "11\n",
            "12\n",
            "13\n",
            "14\n",
            "15\n",
            "16\n",
            "17\n",
            "18\n",
            "19\n",
            "20\n",
            "102\n"
          ],
          "name": "stdout"
        }
      ]
    },
    {
      "cell_type": "code",
      "metadata": {
        "id": "IVQ9tlb4YrVi"
      },
      "source": [
        ""
      ],
      "execution_count": null,
      "outputs": []
    }
  ]
}