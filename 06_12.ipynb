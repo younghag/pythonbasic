{
 "cells": [
  {
   "cell_type": "code",
   "execution_count": null,
   "metadata": {},
   "outputs": [
    {
     "name": "stdout",
     "output_type": "stream",
     "text": [
      "70161000.0\n",
      "70161000.0\n",
      "70161000.0\n",
      "70161000.0\n",
      "70161000.0\n",
      "70161000.0\n",
      "70161000.0\n",
      "70161000.0\n",
      "70161000.0\n",
      "70161000.0\n",
      "70161000.0\n",
      "70161000.0\n",
      "70161000.0\n",
      "70161000.0\n",
      "70161000.0\n",
      "70161000.0\n",
      "70161000.0\n",
      "70161000.0\n",
      "70161000.0\n",
      "70161000.0\n",
      "70161000.0\n",
      "70161000.0\n",
      "70154000.0\n",
      "70154000.0\n",
      "70154000.0\n",
      "70154000.0\n",
      "70154000.0\n",
      "70154000.0\n",
      "70171000.0\n",
      "70162000.0\n",
      "70162000.0\n",
      "70162000.0\n",
      "70162000.0\n",
      "70162000.0\n",
      "70161000.0\n",
      "70161000.0\n",
      "70161000.0\n",
      "70161000.0\n",
      "70161000.0\n",
      "70161000.0\n",
      "70161000.0\n",
      "70161000.0\n",
      "70161000.0\n",
      "70161000.0\n",
      "70161000.0\n",
      "70161000.0\n",
      "70161000.0\n"
     ]
    }
   ],
   "source": [
    "import pybithumb\n",
    "import time\n",
    "\n",
    "while 1:\n",
    "    price = pybithumb.get_current_price(\"BTC\")\n",
    "    print(price)\n",
    "    time.sleep(0.2)"
   ]
  },
  {
   "cell_type": "code",
   "execution_count": null,
   "metadata": {},
   "outputs": [],
   "source": []
  }
 ],
 "metadata": {
  "kernelspec": {
   "display_name": "Python 3",
   "language": "python",
   "name": "python3"
  },
  "language_info": {
   "codemirror_mode": {
    "name": "ipython",
    "version": 3
   },
   "file_extension": ".py",
   "mimetype": "text/x-python",
   "name": "python",
   "nbconvert_exporter": "python",
   "pygments_lexer": "ipython3",
   "version": "3.8.5"
  }
 },
 "nbformat": 4,
 "nbformat_minor": 4
}
