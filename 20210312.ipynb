{
  "nbformat": 4,
  "nbformat_minor": 0,
  "metadata": {
    "colab": {
      "name": "20210312.ipynb",
      "provenance": [],
      "authorship_tag": "ABX9TyNe1e091eqxR5xlT5339Ls8",
      "include_colab_link": true
    },
    "kernelspec": {
      "name": "python3",
      "display_name": "Python 3"
    }
  },
  "cells": [
    {
      "cell_type": "markdown",
      "metadata": {
        "id": "view-in-github",
        "colab_type": "text"
      },
      "source": [
        "<a href=\"https://colab.research.google.com/github/younghag/pythonbasic/blob/main/20210312.ipynb\" target=\"_parent\"><img src=\"https://colab.research.google.com/assets/colab-badge.svg\" alt=\"Open In Colab\"/></a>"
      ]
    },
    {
      "cell_type": "code",
      "metadata": {
        "colab": {
          "base_uri": "https://localhost:8080/"
        },
        "id": "Zk3hJfgY_NwG",
        "outputId": "a0e5ab8f-602c-457e-86a5-60666b5f7763"
      },
      "source": [
        "people = [('이호준', '01050442903'), \r\n",
        "          ('이호상', '01051442904'), \r\n",
        "          ('이준호', '01050342904'), \r\n",
        "          ('이호준', '01050442903'), \r\n",
        "          ('이준', '01050442904'), \r\n",
        "          ('이호', '01050443904'), \r\n",
        "          ('이호준', '01050442903')]\r\n",
        "len(set(people))"
      ],
      "execution_count": 14,
      "outputs": [
        {
          "output_type": "execute_result",
          "data": {
            "text/plain": [
              "5"
            ]
          },
          "metadata": {
            "tags": []
          },
          "execution_count": 14
        }
      ]
    },
    {
      "cell_type": "code",
      "metadata": {
        "colab": {
          "base_uri": "https://localhost:8080/"
        },
        "id": "UUB-OmdBAXDg",
        "outputId": "0d048049-913e-4e74-dd4d-9d10f4f3668c"
      },
      "source": [
        "txt = input(\"문자를 입력하세요: \")\r\n",
        "for i in txt:\r\n",
        "  if i.isupper():\r\n",
        "    print(i.lower(), end='')\r\n",
        "  else:\r\n",
        "    print(i.upper(), end='') "
      ],
      "execution_count": 29,
      "outputs": [
        {
          "output_type": "stream",
          "text": [
            "문자를 입력하세요: AAaaBBbbCCcc\n",
            "aaAAbbBBccCC"
          ],
          "name": "stdout"
        }
      ]
    },
    {
      "cell_type": "code",
      "metadata": {
        "colab": {
          "base_uri": "https://localhost:8080/"
        },
        "id": "ZllK3WduNNN5",
        "outputId": "64bb14de-ab37-4751-8b57-5dfe09b67168"
      },
      "source": [
        "nums = map(int, input().split()) #입력 받은 문자를 수로 변환\r\n",
        "l_nums = list(nums)\r\n",
        "l_nums.sort()"
      ],
      "execution_count": 68,
      "outputs": [
        {
          "output_type": "stream",
          "text": [
            "1 3 2\n"
          ],
          "name": "stdout"
        }
      ]
    },
    {
      "cell_type": "code",
      "metadata": {
        "colab": {
          "base_uri": "https://localhost:8080/"
        },
        "id": "7b5uSx1vZQCi",
        "outputId": "995d8aed-a998-451e-e31f-c84b4ad309a7"
      },
      "source": [
        "nums = map(int, input().split()) #입력 받은 문자를 수로 변환\r\n",
        "l_nums = list(nums)\r\n",
        "l_nums[0]\r\n"
      ],
      "execution_count": 59,
      "outputs": [
        {
          "output_type": "stream",
          "text": [
            "1 2 3\n"
          ],
          "name": "stdout"
        },
        {
          "output_type": "execute_result",
          "data": {
            "text/plain": [
              "1"
            ]
          },
          "metadata": {
            "tags": []
          },
          "execution_count": 59
        }
      ]
    },
    {
      "cell_type": "code",
      "metadata": {
        "colab": {
          "base_uri": "https://localhost:8080/"
        },
        "id": "_LIthM3CdyDE",
        "outputId": "7e4807d3-8f1c-434d-9c95-f8869648c73d"
      },
      "source": [
        "student = ['강은지', '김유정', '박현서', '최성훈', '홍유진', '박지호', '권윤일', \r\n",
        "'김채리', '한지호', '김진이', '김민호', '강채연']\r\n",
        "student.sort()\r\n",
        "for i in range (1, len(student)+1):\r\n",
        "  print(\"번호: %s, 이름: \" % i, student[i-1])"
      ],
      "execution_count": 79,
      "outputs": [
        {
          "output_type": "stream",
          "text": [
            "번호: 1, 이름:  강은지\n",
            "번호: 2, 이름:  강채연\n",
            "번호: 3, 이름:  권윤일\n",
            "번호: 4, 이름:  김민호\n",
            "번호: 5, 이름:  김유정\n",
            "번호: 6, 이름:  김진이\n",
            "번호: 7, 이름:  김채리\n",
            "번호: 8, 이름:  박지호\n",
            "번호: 9, 이름:  박현서\n",
            "번호: 10, 이름:  최성훈\n",
            "번호: 11, 이름:  한지호\n",
            "번호: 12, 이름:  홍유진\n"
          ],
          "name": "stdout"
        }
      ]
    },
    {
      "cell_type": "code",
      "metadata": {
        "colab": {
          "base_uri": "https://localhost:8080/"
        },
        "id": "xToK2pyijp6E",
        "outputId": "564ccc3c-4578-4f38-9471-a1dca9f806ef"
      },
      "source": [
        "a = '20190923'\r\n",
        "print(a)\r\n",
        "type(a)"
      ],
      "execution_count": 81,
      "outputs": [
        {
          "output_type": "stream",
          "text": [
            "20190923\n"
          ],
          "name": "stdout"
        },
        {
          "output_type": "execute_result",
          "data": {
            "text/plain": [
              "str"
            ]
          },
          "metadata": {
            "tags": []
          },
          "execution_count": 81
        }
      ]
    },
    {
      "cell_type": "code",
      "metadata": {
        "colab": {
          "base_uri": "https://localhost:8080/"
        },
        "id": "rEhQpivk6HCF",
        "outputId": "8d485714-769a-4c3f-9ce0-daee6ec420fd"
      },
      "source": [
        "txt = \"aacdddddddddfffffffffgghhh\"\r\n",
        "print(txt.count('a'),\r\n",
        "      txt.count('b'), \r\n",
        "      txt.count('c'), \r\n",
        "      txt.count('d'), \r\n",
        "      txt.count('e'), \r\n",
        "      txt.count('f'),\r\n",
        "      txt.count('g'), \r\n",
        "      txt.count('h'), \r\n",
        "      sep='')"
      ],
      "execution_count": 87,
      "outputs": [
        {
          "output_type": "stream",
          "text": [
            "20190923\n"
          ],
          "name": "stdout"
        }
      ]
    },
    {
      "cell_type": "code",
      "metadata": {
        "colab": {
          "base_uri": "https://localhost:8080/"
        },
        "id": "a1VmODAh9NN7",
        "outputId": "48d3c83e-f7d7-4ef8-d3d9-7672cb4aa674"
      },
      "source": [
        "a = input().split() #입력된 문자를 띄어쓰기 단위로 나눈다\r\n",
        "for i in a: #i가 a안에 있을때\r\n",
        "  print((i[0]), end='') #첫 번째 단어만 출력"
      ],
      "execution_count": 108,
      "outputs": [
        {
          "output_type": "stream",
          "text": [
            "복잡한 세상 편하게 살자\n",
            "복세편살"
          ],
          "name": "stdout"
        }
      ]
    },
    {
      "cell_type": "code",
      "metadata": {
        "colab": {
          "base_uri": "https://localhost:8080/"
        },
        "id": "0lbafGSEEJRb",
        "outputId": "54824327-012a-471f-9be6-c1053f16110e"
      },
      "source": [
        "a = input(' ')\r\n",
        "print(len(a), '자리수', sep='')"
      ],
      "execution_count": 115,
      "outputs": [
        {
          "output_type": "stream",
          "text": [
            " 649\n",
            "3자리수\n"
          ],
          "name": "stdout"
        }
      ]
    },
    {
      "cell_type": "code",
      "metadata": {
        "colab": {
          "base_uri": "https://localhost:8080/"
        },
        "id": "E1bG_LveRVjm",
        "outputId": "ff63681f-94f4-4f63-dd5c-a2ef8758cc9d"
      },
      "source": [
        "a = input('').split()\r\n",
        "sum = 0 #초기값 설정\r\n",
        "for i in a: # i\r\n",
        "  sum += len(i) # 글자수의 합은 이전 글자수의 합 + i의 글자수\r\n",
        "print(sum) #글자수의 합\r\n"
      ],
      "execution_count": 136,
      "outputs": [
        {
          "output_type": "stream",
          "text": [
            "공백을 제외한 글자수만을 세는 코드 테스트\n",
            "18\n"
          ],
          "name": "stdout"
        }
      ]
    },
    {
      "cell_type": "code",
      "metadata": {
        "id": "4uNlPQq7flHE"
      },
      "source": [
        "k={7}"
      ],
      "execution_count": 137,
      "outputs": []
    },
    {
      "cell_type": "code",
      "metadata": {
        "id": "ml5zBNPZpCpz"
      },
      "source": [
        "a=b"
      ],
      "execution_count": 139,
      "outputs": []
    },
    {
      "cell_type": "code",
      "metadata": {
        "id": "Zdkrw2rXpK8f"
      },
      "source": [
        "m={5}"
      ],
      "execution_count": 140,
      "outputs": []
    },
    {
      "cell_type": "code",
      "metadata": {
        "id": "YP25kFKtpQtC"
      },
      "source": [
        "p={7}"
      ],
      "execution_count": 141,
      "outputs": []
    },
    {
      "cell_type": "code",
      "metadata": {
        "id": "5RZjXV8bpSC-"
      },
      "source": [
        ""
      ],
      "execution_count": null,
      "outputs": []
    }
  ]
}